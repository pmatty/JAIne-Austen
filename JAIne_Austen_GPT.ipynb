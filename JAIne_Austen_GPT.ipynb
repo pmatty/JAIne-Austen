{
  "cells": [
    {
      "cell_type": "markdown",
      "metadata": {
        "id": "KPOFLObHo_aa"
      },
      "source": [
        "# JAIne Austen - Training Data"
      ]
    },
    {
      "cell_type": "markdown",
      "metadata": {
        "id": "pYkgi8kOo7NN"
      },
      "source": [
        "We start with a dataset to train on. Jane Austen's works will serve as the basis for training this model\n"
      ]
    },
    {
      "cell_type": "code",
      "execution_count": null,
      "metadata": {
        "colab": {
          "base_uri": "https://localhost:8080/"
        },
        "id": "AFaC47ESjypY",
        "outputId": "9d1bff38-542f-47cc-acb6-d7ff405d95b7"
      },
      "outputs": [],
      "source": [
        "!wget https://raw.githubusercontent.com/pmatty/JAIne-Austen/main/tinyausten.txt?token=GHSAT0AAAAAACQ6NF2WFZ4W7TTADLAATOUSZRL7YPA"
      ]
    },
    {
      "cell_type": "code",
      "execution_count": null,
      "metadata": {
        "id": "CRSyp878qZzh"
      },
      "outputs": [],
      "source": [
        "mv tinyausten.txt?token=GHSAT0AAAAAACQ6NF2WFZ4W7TTADLAATOUSZRL7YPA.2 tinyausten.txt"
      ]
    },
    {
      "cell_type": "markdown",
      "metadata": {
        "id": "X_j-Lnzhox_7"
      },
      "source": [
        "We next need to read the dataset to work with it."
      ]
    },
    {
      "cell_type": "code",
      "execution_count": null,
      "metadata": {
        "id": "Ny8hCWc3pKww"
      },
      "outputs": [],
      "source": [
        "with open('tinyausten.txt','r',encoding='utf-8') as file:\n",
        "    text = file.read()"
      ]
    },
    {
      "cell_type": "code",
      "execution_count": null,
      "metadata": {
        "colab": {
          "base_uri": "https://localhost:8080/"
        },
        "id": "a-wRbHG9paAZ",
        "outputId": "d91d935c-afb9-4070-a437-cebdc44caeb0"
      },
      "outputs": [],
      "source": [
        "# Let's check how large our dataset is\n",
        "print(\"Tiny Austen has \", len(text), \" characters.\")"
      ]
    },
    {
      "cell_type": "markdown",
      "metadata": {
        "id": "ya0jAI2bqoP4"
      },
      "source": [
        "We can now take a look at the first 1000 characters in tinyausten"
      ]
    },
    {
      "cell_type": "code",
      "execution_count": null,
      "metadata": {
        "colab": {
          "base_uri": "https://localhost:8080/"
        },
        "id": "nk_1Cdafqu6h",
        "outputId": "49adac34-1bd9-47f3-a079-d2ca56008b7b"
      },
      "outputs": [],
      "source": [
        "print(text[:1000])"
      ]
    },
    {
      "cell_type": "markdown",
      "metadata": {
        "id": "Sl0aGbSvq27n"
      },
      "source": [
        "Next we are able to see how many unique characters occur in tinyausten"
      ]
    },
    {
      "cell_type": "code",
      "execution_count": null,
      "metadata": {
        "colab": {
          "base_uri": "https://localhost:8080/"
        },
        "id": "Fmsfln38rFuj",
        "outputId": "121a4936-8587-4531-8903-9919a5b7c31b"
      },
      "outputs": [],
      "source": [
        "chars = sorted(list(set(text)))\n",
        "vocab_size = len(chars)\n",
        "print(''.join(chars))\n",
        "print(vocab_size)"
      ]
    },
    {
      "cell_type": "markdown",
      "metadata": {
        "id": "uVzZ2VMArM96"
      },
      "source": [
        "# Encoding the Data"
      ]
    },
    {
      "cell_type": "markdown",
      "metadata": {
        "id": "Oa5IXw6Grg2Z"
      },
      "source": [
        "We can give each character in the chars set a unique mapping to an integer"
      ]
    },
    {
      "cell_type": "code",
      "execution_count": null,
      "metadata": {
        "colab": {
          "base_uri": "https://localhost:8080/"
        },
        "id": "Sr2W9KgerS7L",
        "outputId": "ddea1f8f-9e6d-468e-c44b-5b39a0b8c6ac"
      },
      "outputs": [],
      "source": [
        "\n",
        "stoi = { ch:i for i,ch in enumerate(chars) }\n",
        "itos = { i:ch for i,ch in enumerate(chars) }\n",
        "encode = lambda s: [stoi[c] for c in s] # encoder: take a string, output a list of integers\n",
        "decode = lambda l: ''.join([itos[i] for i in l]) # decoder: take a list of integers, output a string\n",
        "\n",
        "print(encode(\"Hello World!\"))\n",
        "print(decode(encode(\"Hello World!\")))"
      ]
    },
    {
      "cell_type": "markdown",
      "metadata": {
        "id": "mgjK6v-IrqrH"
      },
      "source": [
        "Next we want to encode the entire tinyausten dataset and store it as a torch.Tensor"
      ]
    },
    {
      "cell_type": "code",
      "execution_count": null,
      "metadata": {
        "colab": {
          "base_uri": "https://localhost:8080/"
        },
        "id": "EwQ1xfF9ryqM",
        "outputId": "d1bfbddf-5456-41f7-e3f3-845bfdf550a8"
      },
      "outputs": [],
      "source": [
        "# let's now encode the entire text dataset and store it into a torch.Tensor\n",
        "import torch # we use PyTorch: https://pytorch.org\n",
        "data = torch.tensor(encode(text), dtype=torch.long)\n",
        "print(data.shape, data.dtype)\n",
        "print(data[:1000]) # the 1000 characters we looked at earier will to the GPT look like this"
      ]
    },
    {
      "cell_type": "markdown",
      "metadata": {
        "id": "EJnkQst8r-Z2"
      },
      "source": [
        "To Ensure we have some data to validate our model training we need to split the dataset into training data and validation sets."
      ]
    },
    {
      "cell_type": "code",
      "execution_count": null,
      "metadata": {
        "id": "tO0XBdVNr9xe"
      },
      "outputs": [],
      "source": [
        "# Let's now split up the data into train and validation sets\n",
        "n = int(0.9*len(data)) # first 90% will be train, rest val\n",
        "train_data = data[:n]\n",
        "valid_data = data[n:]"
      ]
    },
    {
      "cell_type": "markdown",
      "metadata": {
        "id": "bBNb_EWb4wHk"
      },
      "source": [
        "# Bigram Model"
      ]
    },
    {
      "cell_type": "markdown",
      "metadata": {
        "id": "N5MQFIlntNUR"
      },
      "source": [
        "Now we have our trainign data and validation data we can begin with a basic Bigram Language Model\n",
        "\n",
        "*A bigram is a sequence of two adjacent elements from a string of tokens, in this case the elements are letters.*"
      ]
    },
    {
      "cell_type": "code",
      "execution_count": null,
      "metadata": {
        "colab": {
          "base_uri": "https://localhost:8080/"
        },
        "id": "gMf9WmVJtbJu",
        "outputId": "ff3fdbf4-b4f2-4532-ed54-62498461108f"
      },
      "outputs": [],
      "source": [
        "import torch\n",
        "import torch.nn as nn\n",
        "from torch.nn import functional as F\n",
        "torch.manual_seed(1337)\n",
        "\n",
        "torch.manual_seed(1337)\n",
        "batch_size = 4 # how many independent sequences will we process in parallel?\n",
        "block_size = 8 # what is the maximum context length for predictions?\n",
        "\n",
        "def get_batch(split):\n",
        "    # generate a small batch of data of inputs x and targets y\n",
        "    data = train_data if split == 'train' else val_data\n",
        "    ix = torch.randint(len(data) - block_size, (batch_size,))\n",
        "    x = torch.stack([data[i:i+block_size] for i in ix])\n",
        "    y = torch.stack([data[i+1:i+block_size+1] for i in ix])\n",
        "    return x, y\n",
        "\n",
        "xb, yb = get_batch('train')\n",
        "\n",
        "class BigramLanguageModel(nn.Module):\n",
        "\n",
        "    def __init__(self, vocab_size):\n",
        "        super().__init__()\n",
        "        # each token directly reads off the logits for the next token from a lookup table\n",
        "        self.token_embedding_table = nn.Embedding(vocab_size, vocab_size)\n",
        "\n",
        "    def forward(self, idx, targets=None):\n",
        "\n",
        "        # idx and targets are both (B,T) tensor of integers\n",
        "        logits = self.token_embedding_table(idx) # (B,T,C)\n",
        "\n",
        "        if targets is None:\n",
        "            loss = None\n",
        "        else:\n",
        "            B, T, C = logits.shape\n",
        "            logits = logits.view(B*T, C)\n",
        "            targets = targets.view(B*T)\n",
        "            loss = F.cross_entropy(logits, targets)\n",
        "\n",
        "        return logits, loss\n",
        "\n",
        "    def generate(self, idx, max_new_tokens):\n",
        "        # idx is (B, T) array of indices in the current context\n",
        "        for _ in range(max_new_tokens):\n",
        "            # get the predictions\n",
        "            logits, loss = self(idx)\n",
        "            # focus only on the last time step\n",
        "            logits = logits[:, -1, :] # becomes (B, C)\n",
        "            # apply softmax to get probabilities\n",
        "            probs = F.softmax(logits, dim=-1) # (B, C)\n",
        "            # sample from the distribution\n",
        "            idx_next = torch.multinomial(probs, num_samples=1) # (B, 1)\n",
        "            # append sampled index to the running sequence\n",
        "            idx = torch.cat((idx, idx_next), dim=1) # (B, T+1)\n",
        "        return idx\n",
        "\n",
        "m = BigramLanguageModel(vocab_size)\n",
        "logits, loss = m(xb, yb)\n",
        "print(logits.shape)\n",
        "print(loss)\n",
        "\n",
        "print(decode(m.generate(idx = torch.zeros((1, 1), dtype=torch.long), max_new_tokens=100)[0].tolist()))\n"
      ]
    },
    {
      "cell_type": "code",
      "execution_count": null,
      "metadata": {
        "id": "6JBX1I-wuqk6"
      },
      "outputs": [],
      "source": [
        "# create a PyTorch optimizer\n",
        "optimizer = torch.optim.AdamW(m.parameters(), lr=1e-3)"
      ]
    },
    {
      "cell_type": "code",
      "execution_count": null,
      "metadata": {
        "colab": {
          "base_uri": "https://localhost:8080/"
        },
        "id": "crayaCTBuuoF",
        "outputId": "d0d011c4-8bfb-47ed-8f5b-6fa4b68116c5"
      },
      "outputs": [],
      "source": [
        "batch_size = 32\n",
        "for steps in range(100): # increase number of steps for good results...\n",
        "\n",
        "    # sample a batch of data\n",
        "    xb, yb = get_batch('train')\n",
        "\n",
        "    # evaluate the loss\n",
        "    logits, loss = m(xb, yb)\n",
        "    optimizer.zero_grad(set_to_none=True)\n",
        "    loss.backward()\n",
        "    optimizer.step()\n",
        "\n",
        "print(loss.item())\n"
      ]
    },
    {
      "cell_type": "code",
      "execution_count": null,
      "metadata": {
        "colab": {
          "base_uri": "https://localhost:8080/"
        },
        "id": "kbuioT0Kuz0D",
        "outputId": "2084d44d-aad3-48a1-ce8f-1394614d26b3"
      },
      "outputs": [],
      "source": [
        "print(decode(m.generate(idx = torch.zeros((1, 1), dtype=torch.long), max_new_tokens=500)[0].tolist()))"
      ]
    },
    {
      "cell_type": "markdown",
      "metadata": {
        "id": "hATUvpdNu2_s"
      },
      "source": [
        "# All you need is Attention"
      ]
    },
    {
      "cell_type": "code",
      "execution_count": null,
      "metadata": {
        "colab": {
          "base_uri": "https://localhost:8080/"
        },
        "id": "Ar0wrBy_u2lt",
        "outputId": "763b37eb-01a2-4c15-b0d0-451cfd67fe62"
      },
      "outputs": [],
      "source": [
        "torch.manual_seed(1234)\n",
        "B,T,C = 4,8,32 # batch, time, channels\n",
        "x = torch.randn(B,T,C)\n",
        "\n",
        "# let's see a single Head perform self-attention\n",
        "head_size = 16\n",
        "key = nn.Linear(C, head_size, bias=False)\n",
        "query = nn.Linear(C, head_size, bias=False)\n",
        "value = nn.Linear(C, head_size, bias=False)\n",
        "k = key(x)   # (B, T, 16)\n",
        "q = query(x) # (B, T, 16)\n",
        "wei =  q @ k.transpose(-2, -1) # (B, T, 16) @ (B, 16, T) ---> (B, T, T)\n",
        "\n",
        "tril = torch.tril(torch.ones(T, T))\n",
        "#wei = torch.zeros((T,T))\n",
        "wei = wei.masked_fill(tril == 0, float('-inf'))\n",
        "wei = F.softmax(wei, dim=-1)\n",
        "\n",
        "v = value(x)\n",
        "out = wei @ v\n",
        "#out = wei @ x\n",
        "\n",
        "out.shape\n",
        "\n",
        "wei[0]"
      ]
    },
    {
      "cell_type": "markdown",
      "metadata": {
        "id": "AGVhhq6rvn9f"
      },
      "source": [
        "# Putting it all together"
      ]
    },
    {
      "cell_type": "code",
      "execution_count": 2,
      "metadata": {
        "colab": {
          "base_uri": "https://localhost:8080/"
        },
        "id": "K5jUxquovqXJ",
        "outputId": "b6b76634-9dfa-4043-d709-c04d11d9c4fa"
      },
      "outputs": [
        {
          "name": "stdout",
          "output_type": "stream",
          "text": [
            "0.414815 M parameters\n",
            "step 0: train loss 4.7279, val loss 4.7256\n",
            "step 100: train loss 2.6241, val loss 2.6598\n",
            "step 200: train loss 2.5208, val loss 2.5548\n",
            "step 300: train loss 2.4723, val loss 2.5004\n",
            "step 400: train loss 2.4253, val loss 2.4540\n",
            "step 500: train loss 2.3786, val loss 2.4017\n",
            "step 600: train loss 2.3395, val loss 2.3664\n",
            "step 700: train loss 2.2981, val loss 2.3271\n",
            "step 800: train loss 2.2288, val loss 2.2538\n",
            "step 900: train loss 2.1643, val loss 2.1920\n",
            "step 1000: train loss 2.1177, val loss 2.1454\n",
            "step 1100: train loss 2.0716, val loss 2.0982\n",
            "step 1200: train loss 2.0422, val loss 2.0617\n",
            "step 1300: train loss 2.0058, val loss 2.0332\n",
            "step 1400: train loss 1.9677, val loss 1.9998\n",
            "step 1499: train loss 1.9444, val loss 1.9718\n",
            "Model weights saved.\n",
            "\n",
            "Mrau wat a kpiloing of how the in drarey's.”\n",
            "\n",
            "The marsiong Mrac and the fat. II umompp—treman toghe be, as har that suethered\n",
            "oaveme; ivin berwe she impil—a the palig hem, the have as tat was thit he\n",
            "swealds expectionce beeegar. I àut uche ibx thot ahe repparence, bandut brood\n",
            "mithing evithing in coter. Mr; and sear tre marrl to thaim rest. Wher\n",
            "set in murlbok anveing the in of? Thas Meras; We to himatwash sie thes she\n",
            "uch ouk wore. Jud yer spirie the fough her fot dof oppheread, in yvery\n",
            "indeand and un income no inded to apeasinge hat having on wis i the a\n",
            "prastiouttal ake wous imme ther wouching us papppst.\"\n",
            "\"\n",
            "\n",
            "Ditencling tion yooum,\n",
            "fu anw retth youse \" ren eanely ntot I evexhomblehy heat mr cou:--\"ing wois to sie to lempet\n",
            "habrte owghar, sa yoe pleitsurct as has conourmed to fahe correem th-Wam\n",
            "masuct oorn he dof ofther wasich of andpte ad thes beprtifonss on ras epececetfiong anlise rre\n",
            "haly' noter to k. I _ Millay you noo ming dow is. Hest Mr. Sheld in Lacy, wis Mancere cof and in hi\n",
            "ther\n",
            "proontjo and timpeve, Efirte ind at no it Mrects.” Iffor. till in shis\n",
            " had tad meanay creppissshion, not her ho show doof She Boud isinge divates ablatg truom che\n",
            "aund ond atherte and aniplntle doine. . Noingseede on appat. Mid Weil hack wrelpysoulnd\n",
            "theing splogh botutiats' way derias and hacurr thour he\n",
            "cant of tho with willllithe it pesamed expaped of broing. 3as Farsee thirs\n",
            "ispeccct onlt kplifh too you she leastiags oer cCarthey but to be leiththt\n",
            "darsty proosem of woothir ont eve ‘inusp she nour int mye thicht\n",
            "canly, Mepek Iand a kmoragit athe courdsent othe wilth fith fer protucem\n",
            "seppitionte how m wa love ust fanesantion had spesroom beeegrelifg booow, lit. I jure suidstle his imqut inlare, they ad\n",
            "stund werpive, (an Hidmyiate the to he listtelll of the she note\n",
            "in thime have sofen---gevow aln mpothir verecher at soive if the in very fan of\n",
            "ffelee. “The was ache conthars. Wo whe held lept ucepl maby firach whis creve\n",
            "ligagit wirtht loold; a he master yor comutht the \n"
          ]
        }
      ],
      "source": [
        "import torch\n",
        "import torch.nn as nn\n",
        "from torch.nn import functional as F\n",
        "import os\n",
        "\n",
        "# hyperparameters\n",
        "batch_size = 16 # how many independent sequences will we process in parallel?\n",
        "block_size = 64 # what is the maximum context length for predictions?\n",
        "max_iters = 2000\n",
        "eval_interval = 100\n",
        "learning_rate = 1e-3\n",
        "device = 'mps' if torch.backends.mps.is_available() else 'cpu'\n",
        "eval_iters = 200\n",
        "n_embd = 64\n",
        "n_head = 8\n",
        "n_layer = 8\n",
        "dropout = 0.2\n",
        "# ------------\n",
        "\n",
        "torch.manual_seed(1234)\n",
        "\n",
        "with open('tinyausten.txt', 'r', encoding='utf-8') as f:\n",
        "    text = f.read()\n",
        "\n",
        "# here are all the unique characters that occur in this text\n",
        "chars = sorted(list(set(text)))\n",
        "vocab_size = len(chars)\n",
        "# create a mapping from characters to integers\n",
        "stoi = { ch:i for i,ch in enumerate(chars) }\n",
        "itos = { i:ch for i,ch in enumerate(chars) }\n",
        "encode = lambda s: [stoi[c] for c in s] # encoder: take a string, output a list of integers\n",
        "decode = lambda l: ''.join([itos[i] for i in l]) # decoder: take a list of integers, output a string\n",
        "\n",
        "# Train and test splits\n",
        "data = torch.tensor(encode(text), dtype=torch.long)\n",
        "n = int(0.9*len(data)) # first 90% will be train, rest val\n",
        "train_data = data[:n]\n",
        "val_data = data[n:]\n",
        "\n",
        "# data loading\n",
        "def get_batch(split):\n",
        "    # generate a small batch of data of inputs x and targets y\n",
        "    data = train_data if split == 'train' else val_data\n",
        "    ix = torch.randint(len(data) - block_size, (batch_size,))\n",
        "    x = torch.stack([data[i:i+block_size] for i in ix])\n",
        "    y = torch.stack([data[i+1:i+block_size+1] for i in ix])\n",
        "    x, y = x.to(device), y.to(device)\n",
        "    return x, y\n",
        "\n",
        "@torch.no_grad()\n",
        "def estimate_loss():\n",
        "    out = {}\n",
        "    model.eval()\n",
        "    for split in ['train', 'val']:\n",
        "        losses = torch.zeros(eval_iters)\n",
        "        for k in range(eval_iters):\n",
        "            X, Y = get_batch(split)\n",
        "            logits, loss = model(X, Y)\n",
        "            losses[k] = loss.item()\n",
        "        out[split] = losses.mean()\n",
        "    model.train()\n",
        "    return out\n",
        "\n",
        "class Head(nn.Module):\n",
        "    \"\"\" one head of self-attention \"\"\"\n",
        "\n",
        "    def __init__(self, head_size):\n",
        "        super().__init__()\n",
        "        self.key = nn.Linear(n_embd, head_size, bias=False)\n",
        "        self.query = nn.Linear(n_embd, head_size, bias=False)\n",
        "        self.value = nn.Linear(n_embd, head_size, bias=False)\n",
        "        self.register_buffer('tril', torch.tril(torch.ones(block_size, block_size)))\n",
        "\n",
        "        self.dropout = nn.Dropout(dropout)\n",
        "\n",
        "    def forward(self, x):\n",
        "        B,T,C = x.shape\n",
        "        k = self.key(x)   # (B,T,C)\n",
        "        q = self.query(x) # (B,T,C)\n",
        "        # compute attention scores (\"affinities\")\n",
        "        wei = q @ k.transpose(-2,-1) * C**-0.5 # (B, T, C) @ (B, C, T) -> (B, T, T)\n",
        "        wei = wei.masked_fill(self.tril[:T, :T] == 0, float('-inf')) # (B, T, T)\n",
        "        wei = F.softmax(wei, dim=-1) # (B, T, T)\n",
        "        wei = self.dropout(wei)\n",
        "        # perform the weighted aggregation of the values\n",
        "        v = self.value(x) # (B,T,C)\n",
        "        out = wei @ v # (B, T, T) @ (B, T, C) -> (B, T, C)\n",
        "        return out\n",
        "\n",
        "class MultiHeadAttention(nn.Module):\n",
        "    \"\"\" multiple heads of self-attention in parallel \"\"\"\n",
        "\n",
        "    def __init__(self, num_heads, head_size):\n",
        "        super().__init__()\n",
        "        self.heads = nn.ModuleList([Head(head_size) for _ in range(num_heads)])\n",
        "        self.proj = nn.Linear(n_embd, n_embd)\n",
        "        self.dropout = nn.Dropout(dropout)\n",
        "\n",
        "    def forward(self, x):\n",
        "        out = torch.cat([h(x) for h in self.heads], dim=-1)\n",
        "        out = self.dropout(self.proj(out))\n",
        "        return out\n",
        "\n",
        "class FeedFoward(nn.Module):\n",
        "    \"\"\" a simple linear layer followed by a non-linearity \"\"\"\n",
        "\n",
        "    def __init__(self, n_embd):\n",
        "        super().__init__()\n",
        "        self.net = nn.Sequential(\n",
        "            nn.Linear(n_embd, 4 * n_embd),\n",
        "            nn.ReLU(),\n",
        "            nn.Linear(4 * n_embd, n_embd),\n",
        "            nn.Dropout(dropout),\n",
        "        )\n",
        "\n",
        "    def forward(self, x):\n",
        "        return self.net(x)\n",
        "\n",
        "class Block(nn.Module):\n",
        "    \"\"\" Transformer block: communication followed by computation \"\"\"\n",
        "\n",
        "    def __init__(self, n_embd, n_head):\n",
        "        # n_embd: embedding dimension, n_head: the number of heads we'd like\n",
        "        super().__init__()\n",
        "        head_size = n_embd // n_head\n",
        "        self.sa = MultiHeadAttention(n_head, head_size)\n",
        "        self.ffwd = FeedFoward(n_embd)\n",
        "        self.ln1 = nn.LayerNorm(n_embd)\n",
        "        self.ln2 = nn.LayerNorm(n_embd)\n",
        "\n",
        "    def forward(self, x):\n",
        "        x = x + self.sa(self.ln1(x))\n",
        "        x = x + self.ffwd(self.ln2(x))\n",
        "        return x\n",
        "\n",
        "# super simple bigram model\n",
        "class BigramLanguageModel(nn.Module):\n",
        "\n",
        "    def __init__(self):\n",
        "        super().__init__()\n",
        "        # each token directly reads off the logits for the next token from a lookup table\n",
        "        self.token_embedding_table = nn.Embedding(vocab_size, n_embd)\n",
        "        self.position_embedding_table = nn.Embedding(block_size, n_embd)\n",
        "        self.blocks = nn.Sequential(*[Block(n_embd, n_head=n_head) for _ in range(n_layer)])\n",
        "        self.ln_f = nn.LayerNorm(n_embd) # final layer norm\n",
        "        self.lm_head = nn.Linear(n_embd, vocab_size)\n",
        "\n",
        "    def forward(self, idx, targets=None):\n",
        "        B, T = idx.shape\n",
        "\n",
        "        # idx and targets are both (B,T) tensor of integers\n",
        "        tok_emb = self.token_embedding_table(idx) # (B,T,C)\n",
        "        pos_emb = self.position_embedding_table(torch.arange(T, device=device)) # (T,C)\n",
        "        x = tok_emb + pos_emb # (B,T,C)\n",
        "        x = self.blocks(x) # (B,T,C)\n",
        "        x = self.ln_f(x) # (B,T,C)\n",
        "        logits = self.lm_head(x) # (B,T,vocab_size)\n",
        "\n",
        "        if targets is None:\n",
        "            loss = None\n",
        "        else:\n",
        "            B, T, C = logits.shape\n",
        "            logits = logits.view(B*T, C)\n",
        "            targets = targets.view(B*T)\n",
        "            loss = F.cross_entropy(logits, targets)\n",
        "\n",
        "        return logits, loss\n",
        "\n",
        "    def generate(self, idx, max_new_tokens):\n",
        "        # idx is (B, T) array of indices in the current context\n",
        "        for _ in range(max_new_tokens):\n",
        "            # crop idx to the last block_size tokens\n",
        "            idx_cond = idx[:, -block_size:]\n",
        "            # get the predictions\n",
        "            logits, loss = self(idx_cond)\n",
        "            # focus only on the last time step\n",
        "            logits = logits[:, -1, :] # becomes (B, C)\n",
        "            # apply softmax to get probabilities\n",
        "            probs = F.softmax(logits, dim=-1) # (B, C)\n",
        "            # sample from the distribution\n",
        "            idx_next = torch.multinomial(probs, num_samples=1) # (B, 1)\n",
        "            # append sampled index to the running sequence\n",
        "            idx = torch.cat((idx, idx_next), dim=1) # (B, T+1)\n",
        "        return idx\n",
        "\n",
        "\n",
        "\n",
        "# Define the model\n",
        "model = BigramLanguageModel()\n",
        "m = model.to(device)\n",
        "# print the number of parameters in the model\n",
        "print(sum(p.numel() for p in m.parameters())/1e6, 'M parameters')\n",
        "# create a PyTorch optimizer\n",
        "optimizer = torch.optim.AdamW(model.parameters(), lr=learning_rate)\n",
        "\n",
        "# Check if weights file exists\n",
        "#weights_path = \"model_weights.pth\"\n",
        "\n",
        "# Load the model weights if they exist\n",
        "weights_path = input(\"Enter the path to the model weights file: \")\n",
        "\n",
        "if os.path.exists(weights_path):\n",
        "    # Load the model weights\n",
        "    model.load_state_dict(torch.load(weights_path))\n",
        "    model.eval()  # Set the model to evaluation mode\n",
        "    print(\"Model weights loaded.\")\n",
        "else:\n",
        "    # Train the model as weights file does not exist\n",
        "    optimizer = torch.optim.AdamW(model.parameters(), lr=learning_rate)\n",
        "    for iter in range(max_iters):\n",
        "        if iter % eval_interval == 0 or iter == max_iters - 1:\n",
        "            losses = estimate_loss()\n",
        "            print(f\"step {iter}: train loss {losses['train']:.4f}, val loss {losses['val']:.4f}\")\n",
        "\n",
        "        xb, yb = get_batch('train')\n",
        "        logits, loss = model(xb, yb)\n",
        "        optimizer.zero_grad(set_to_none=True)\n",
        "        loss.backward()\n",
        "        optimizer.step()\n",
        "\n",
        "    # Save the model weights after training\n",
        "    torch.save(model.state_dict(), weights_path)\n",
        "    print(\"Model weights saved.\")\n",
        "\n",
        "# Generate text using the model\n",
        "context = torch.zeros((1, 1), dtype=torch.long, device=device)\n",
        "print(decode(model.generate(context, max_new_tokens=2000)[0].tolist()))\n"
      ]
    },
    {
      "cell_type": "markdown",
      "metadata": {},
      "source": [
        "# Run the Model on Pretrained Weights"
      ]
    },
    {
      "cell_type": "code",
      "execution_count": null,
      "metadata": {},
      "outputs": [],
      "source": [
        "import torch\n",
        "import torch.nn as nn\n",
        "from torch.nn import functional as F\n",
        "\n",
        "# Define the BigramLanguageModel class as per your model definition\n",
        "class BigramLanguageModel(nn.Module):\n",
        "    def __init__(self, vocab_size, n_embd):\n",
        "        super(BigramLanguageModel, self).__init__()\n",
        "        self.token_embedding_table = nn.Embedding(vocab_size, n_embd)\n",
        "        self.position_embedding_table = nn.Embedding(512, n_embd)\n",
        "        self.lm_head = nn.Linear(n_embd, vocab_size)\n",
        "\n",
        "    def forward(self, idx, targets=None):\n",
        "        tok_emb = self.token_embedding_table(idx)\n",
        "        pos_emb = self.position_embedding_table(torch.arange(idx.shape[1], device=idx.device))\n",
        "        x = tok_emb + pos_emb\n",
        "        logits = self.lm_head(x)\n",
        "\n",
        "        if targets is None:\n",
        "            loss = None\n",
        "        else:\n",
        "            B, T, C = logits.shape\n",
        "            logits = logits.view(B*T, C)\n",
        "            targets = targets.view(B*T)\n",
        "            loss = F.cross_entropy(logits, targets)\n",
        "\n",
        "        return logits, loss\n",
        "\n",
        "    def generate(self, idx, max_new_tokens):\n",
        "        for _ in range(max_new_tokens):\n",
        "            idx_cond = idx[:, -512:]\n",
        "            logits, loss = self(idx_cond)\n",
        "            logits = logits[:, -1, :]\n",
        "            probs = F.softmax(logits, dim=-1)\n",
        "            idx_next = torch.multinomial(probs, num_samples=1)\n",
        "            idx = torch.cat((idx, idx_next), dim=1)\n",
        "        return idx\n",
        "\n",
        "# Define functions for encoding and decoding\n",
        "def encode(s, stoi):\n",
        "    return [stoi[c] for c in s]\n",
        "\n",
        "def decode(l, itos):\n",
        "    return ''.join([itos[i] for i in l])\n",
        "\n",
        "# Load the vocabulary and model weights\n",
        "vocab_size = 65  # Set this to your vocab size\n",
        "n_embd = 256  # Set this to your embedding size\n",
        "model_weights_path = 'model_weights.pth'  # Path to the saved model weights\n",
        "stoi = {' ': 0, '!': 1, '\"': 2, '#': 3, '$': 4, '%': 5, '&': 6, \"'\": 7, '(': 8, ')': 9, '*': 10, '+': 11, ',': 12, '-': 13, '.': 14, '/': 15, '0': 16, '1': 17, '2': 18, '3': 19, '4': 20, '5': 21, '6': 22, '7': 23, '8': 24, '9': 25, ':': 26, ';': 27, '<': 28, '=': 29, '>': 30, '?': 31, '@': 32, 'A': 33, 'B': 34, 'C': 35, 'D': 36, 'E': 37, 'F': 38, 'G': 39, 'H': 40, 'I': 41, 'J': 42, 'K': 43, 'L': 44, 'M': 45, 'N': 46, 'O': 47, 'P': 48, 'Q': 49, 'R': 50, 'S': 51, 'T': 52, 'U': 53, 'V': 54, 'W': 55, 'X': 56, 'Y': 57, 'Z': 58, '[': 59, '\\\\': 60, ']': 61, '^': 62, '_': 63, '`': 64}\n",
        "itos = {i: ch for ch, i in stoi.items()}\n",
        "\n",
        "# Initialize the model and load the weights\n",
        "model = BigramLanguageModel(vocab_size, n_embd)\n",
        "model.load_state_dict(torch.load(model_weights_path))\n",
        "model.eval()\n",
        "\n",
        "# Generate text\n",
        "context = torch.zeros((1, 1), dtype=torch.long)\n",
        "generated_text_idx = model.generate(context, max_new_tokens=2000)\n",
        "generated_text = decode(generated_text_idx[0].tolist(), itos)\n",
        "\n",
        "print(generated_text)"
      ]
    }
  ],
  "metadata": {
    "colab": {
      "provenance": []
    },
    "kernelspec": {
      "display_name": "Python 3",
      "name": "python3"
    },
    "language_info": {
      "codemirror_mode": {
        "name": "ipython",
        "version": 3
      },
      "file_extension": ".py",
      "mimetype": "text/x-python",
      "name": "python",
      "nbconvert_exporter": "python",
      "pygments_lexer": "ipython3",
      "version": "3.12.0"
    }
  },
  "nbformat": 4,
  "nbformat_minor": 0
}
